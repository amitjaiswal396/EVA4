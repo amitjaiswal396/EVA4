{
 "cells": [
  {
   "cell_type": "markdown",
   "metadata": {},
   "source": [
    "### Module import"
   ]
  },
  {
   "cell_type": "code",
   "execution_count": 12,
   "metadata": {},
   "outputs": [
    {
     "name": "stdout",
     "output_type": "stream",
     "text": [
      "cpu\n"
     ]
    }
   ],
   "source": [
    "import os\n",
    "import PIL\n",
    "import numpy as np\n",
    "import torch\n",
    "import torch.nn.functional as F\n",
    "import torchvision.models as models\n",
    "from torchvision import transforms\n",
    "from torchvision.utils import make_grid, save_image\n",
    "\n",
    "from gradcam.gradcam import GradCAM, visualize_cam\n",
    "device = 'cuda' if torch.cuda.is_available() else 'cpu'\n",
    "print(device)"
   ]
  },
  {
   "cell_type": "markdown",
   "metadata": {},
   "source": [
    "### Load image"
   ]
  },
  {
   "cell_type": "code",
   "execution_count": 13,
   "metadata": {},
   "outputs": [
    {
     "data": {
      "text/plain": [
       "'images\\\\water-bird.JPEG'"
      ]
     },
     "execution_count": 13,
     "metadata": {},
     "output_type": "execute_result"
    }
   ],
   "source": [
    "img_dir = 'images'\n",
    "# img_name = 'collies.JPG'\n",
    "# img_name = 'multiple_dogs.jpg'\n",
    "# img_name = 'snake.JPEG'\n",
    "img_name = 'water-bird.JPEG'\n",
    "img_path = os.path.join(img_dir, img_name)\n",
    "\n",
    "pil_img = PIL.Image.open(img_path)\n",
    "img_path"
   ]
  },
  {
   "cell_type": "markdown",
   "metadata": {},
   "source": [
    "### preprocess image"
   ]
  },
  {
   "cell_type": "code",
   "execution_count": 14,
   "metadata": {},
   "outputs": [
    {
     "data": {
      "text/plain": [
       "torch.Size([3, 224, 224])"
      ]
     },
     "execution_count": 14,
     "metadata": {},
     "output_type": "execute_result"
    }
   ],
   "source": [
    "torch_img = transforms.Compose([\n",
    "    transforms.Resize((224, 224)),\n",
    "    transforms.ToTensor()\n",
    "])(pil_img).to(device)\n",
    "normed_torch_img = transforms.Normalize([0.485, 0.456, 0.406], [0.229, 0.224, 0.225])(torch_img)[None]\n",
    "torch_img.size()"
   ]
  },
  {
   "cell_type": "markdown",
   "metadata": {},
   "source": [
    "### Load torchvision models and make configs"
   ]
  },
  {
   "cell_type": "code",
   "execution_count": 15,
   "metadata": {},
   "outputs": [],
   "source": [
    "#alexnet = models.alexnet(pretrained=True)\n",
    "#vgg = models.vgg16(pretrained=True)\n",
    "resnet = models.resnet101(pretrained=True)\n",
    "#densenet = models.densenet161(pretrained=True)\n",
    "#squeezenet = models.squeezenet1_1(pretrained=True)"
   ]
  },
  {
   "cell_type": "code",
   "execution_count": 16,
   "metadata": {},
   "outputs": [
    {
     "data": {
      "text/plain": [
       "torch.Size([1, 3, 224, 224])"
      ]
     },
     "execution_count": 16,
     "metadata": {},
     "output_type": "execute_result"
    }
   ],
   "source": [
    "normed_torch_img.size()"
   ]
  },
  {
   "cell_type": "code",
   "execution_count": 21,
   "metadata": {},
   "outputs": [
    {
     "name": "stdout",
     "output_type": "stream",
     "text": [
      "<gradcam.gradcam.GradCAM object at 0x000001C49D627A08>\n",
      "torch.Size([1, 3, 224, 224])\n"
     ]
    },
    {
     "data": {
      "text/plain": [
       "3"
      ]
     },
     "execution_count": 21,
     "metadata": {},
     "output_type": "execute_result"
    }
   ],
   "source": [
    "images = []\n",
    "target_layers = ['layer4']\n",
    "for layers, module in resnet.to(device).eval().named_modules():\n",
    "    if layers in target_layers:\n",
    "        gcam = GradCAM(resnet.to(device).eval(), module)\n",
    "        print(gcam)\n",
    "        mask, _ = gcam(normed_torch_img)\n",
    "        print(normed_torch_img.size())\n",
    "        heatmap, result = visualize_cam(mask, torch_img)        \n",
    "        images.extend([torch_img.cpu(), heatmap, result])\n",
    "\n",
    "len(images[2])\n",
    "#grid_image = make_grid(images, nrow=5) \n",
    "#transforms.ToPILImage()(grid_image)"
   ]
  },
  {
   "cell_type": "code",
   "execution_count": null,
   "metadata": {},
   "outputs": [],
   "source": [
    "configs = [\n",
    "    #dict(model_type='alexnet', arch=alexnet, layer_name='features_11'),\n",
    "    #dict(model_type='vgg', arch=vgg, layer_name='features_29'),\n",
    "    dict(model_type='resnet', arch=resnet, layer_name='layer4'),\n",
    "    #dict(model_type='densenet', arch=densenet, layer_name='features_norm5'),\n",
    "    #dict(model_type='squeezenet', arch=squeezenet, layer_name='features_12_expand3x3_activation')\n",
    "]\n"
   ]
  },
  {
   "cell_type": "code",
   "execution_count": null,
   "metadata": {},
   "outputs": [],
   "source": [
    "for config in configs:\n",
    "    config['arch'].to(device).eval()\n",
    "\n",
    "cams = [[cls.from_config(**config) for cls in (GradCAM, GradCAMpp)]for config in configs]"
   ]
  },
  {
   "cell_type": "markdown",
   "metadata": {},
   "source": [
    "### Feedforward image, calculate GradCAM/GradCAM++, and gather results"
   ]
  },
  {
   "cell_type": "code",
   "execution_count": 11,
   "metadata": {},
   "outputs": [
    {
     "ename": "NameError",
     "evalue": "name 'cams' is not defined",
     "output_type": "error",
     "traceback": [
      "\u001b[1;31m---------------------------------------------------------------------------\u001b[0m",
      "\u001b[1;31mNameError\u001b[0m                                 Traceback (most recent call last)",
      "\u001b[1;32m<ipython-input-11-a1b59ef3f130>\u001b[0m in \u001b[0;36m<module>\u001b[1;34m\u001b[0m\n\u001b[0;32m      1\u001b[0m \u001b[0mimages\u001b[0m \u001b[1;33m=\u001b[0m \u001b[1;33m[\u001b[0m\u001b[1;33m]\u001b[0m\u001b[1;33m\u001b[0m\u001b[1;33m\u001b[0m\u001b[0m\n\u001b[1;32m----> 2\u001b[1;33m \u001b[1;32mfor\u001b[0m \u001b[0mgradcam\u001b[0m\u001b[1;33m,\u001b[0m \u001b[0mgradcam_pp\u001b[0m \u001b[1;32min\u001b[0m \u001b[0mcams\u001b[0m\u001b[1;33m:\u001b[0m\u001b[1;33m\u001b[0m\u001b[1;33m\u001b[0m\u001b[0m\n\u001b[0m\u001b[0;32m      3\u001b[0m     \u001b[0mmask\u001b[0m\u001b[1;33m,\u001b[0m \u001b[0m_\u001b[0m \u001b[1;33m=\u001b[0m \u001b[0mgradcam\u001b[0m\u001b[1;33m(\u001b[0m\u001b[0mnormed_torch_img\u001b[0m\u001b[1;33m)\u001b[0m\u001b[1;33m\u001b[0m\u001b[1;33m\u001b[0m\u001b[0m\n\u001b[0;32m      4\u001b[0m     \u001b[0mheatmap\u001b[0m\u001b[1;33m,\u001b[0m \u001b[0mresult\u001b[0m \u001b[1;33m=\u001b[0m \u001b[0mvisualize_cam\u001b[0m\u001b[1;33m(\u001b[0m\u001b[0mmask\u001b[0m\u001b[1;33m,\u001b[0m \u001b[0mtorch_img\u001b[0m\u001b[1;33m)\u001b[0m\u001b[1;33m\u001b[0m\u001b[1;33m\u001b[0m\u001b[0m\n\u001b[0;32m      5\u001b[0m     \u001b[0mmask_pp\u001b[0m\u001b[1;33m,\u001b[0m \u001b[0m_\u001b[0m \u001b[1;33m=\u001b[0m \u001b[0mgradcam_pp\u001b[0m\u001b[1;33m(\u001b[0m\u001b[0mnormed_torch_img\u001b[0m\u001b[1;33m)\u001b[0m\u001b[1;33m\u001b[0m\u001b[1;33m\u001b[0m\u001b[0m\n",
      "\u001b[1;31mNameError\u001b[0m: name 'cams' is not defined"
     ]
    }
   ],
   "source": [
    "images = []\n",
    "for gradcam, gradcam_pp in cams:\n",
    "    mask, _ = gradcam(normed_torch_img)\n",
    "    heatmap, result = visualize_cam(mask, torch_img)\n",
    "    mask_pp, _ = gradcam_pp(normed_torch_img)\n",
    "    heatmap_pp, result_pp = visualize_cam(mask_pp, torch_img)\n",
    "    \n",
    "    images.extend([torch_img.cpu(), heatmap, heatmap_pp, result, result_pp])\n",
    "    \n",
    "#grid_image = make_grid(images, nrow=5)\n",
    "images"
   ]
  },
  {
   "cell_type": "markdown",
   "metadata": {},
   "source": [
    "### Show results "
   ]
  },
  {
   "cell_type": "code",
   "execution_count": null,
   "metadata": {},
   "outputs": [],
   "source": [
    "transforms.ToPILImage()(grid_image)"
   ]
  },
  {
   "cell_type": "code",
   "execution_count": null,
   "metadata": {},
   "outputs": [],
   "source": []
  }
 ],
 "metadata": {
  "kernelspec": {
   "display_name": "Python 3",
   "language": "python",
   "name": "python3"
  },
  "language_info": {
   "codemirror_mode": {
    "name": "ipython",
    "version": 3
   },
   "file_extension": ".py",
   "mimetype": "text/x-python",
   "name": "python",
   "nbconvert_exporter": "python",
   "pygments_lexer": "ipython3",
   "version": "3.7.6"
  }
 },
 "nbformat": 4,
 "nbformat_minor": 2
}
